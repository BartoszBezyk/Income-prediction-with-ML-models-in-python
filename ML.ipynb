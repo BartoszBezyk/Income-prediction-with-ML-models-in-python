{
  "nbformat": 4,
  "nbformat_minor": 0,
  "metadata": {
    "colab": {
      "provenance": [],
      "toc_visible": true
    },
    "kernelspec": {
      "name": "python3",
      "display_name": "Python 3"
    },
    "language_info": {
      "name": "python"
    }
  },
  "cells": [
    {
      "cell_type": "markdown",
      "source": [
        "# Loading and prepering the data"
      ],
      "metadata": {
        "id": "tGv41tfc9A2i"
      }
    },
    {
      "cell_type": "code",
      "execution_count": 1,
      "metadata": {
        "id": "a65pVBZGsuEX"
      },
      "outputs": [],
      "source": [
        "# Import necessary libraries\n",
        "import pandas as pd\n",
        "from sklearn.model_selection import train_test_split\n",
        "from sklearn.linear_model import LinearRegression, LogisticRegression\n",
        "import seaborn as sns\n",
        "import matplotlib.pyplot as plt\n",
        "from scipy.stats import zscore\n",
        "import numpy as np\n",
        "from sklearn.ensemble import RandomForestClassifier, GradientBoostingClassifier\n",
        "from sklearn.metrics import accuracy_score, r2_score, mean_squared_error, mean_absolute_error\n",
        "from sklearn.feature_selection import RFECV\n",
        "from sklearn.model_selection import StratifiedKFold\n",
        "from sklearn.compose import ColumnTransformer\n",
        "from sklearn.preprocessing import OneHotEncoder\n",
        "from sklearn.metrics import accuracy_score, precision_score, recall_score, f1_score, roc_curve, auc, confusion_matrix\n",
        "import matplotlib.pyplot as plt\n"
      ]
    },
    {
      "cell_type": "code",
      "source": [
        "# Load the data\n",
        "data = pd.read_csv(\"adult.csv\")\n",
        "data.dropna()\n",
        "data.head()"
      ],
      "metadata": {
        "colab": {
          "base_uri": "https://localhost:8080/",
          "height": 399
        },
        "id": "fYCGdD-UtAgB",
        "outputId": "53646e42-b0d1-4b69-c3e6-b406de50511d"
      },
      "execution_count": 2,
      "outputs": [
        {
          "output_type": "execute_result",
          "data": {
            "text/plain": [
              "   age  workclass  fnlwgt     education  educational-num      marital-status  \\\n",
              "0   25    Private  226802          11th                7       Never-married   \n",
              "1   38    Private   89814       HS-grad                9  Married-civ-spouse   \n",
              "2   28  Local-gov  336951    Assoc-acdm               12  Married-civ-spouse   \n",
              "3   44    Private  160323  Some-college               10  Married-civ-spouse   \n",
              "4   18          ?  103497  Some-college               10       Never-married   \n",
              "\n",
              "          occupation relationship   race  gender  capital-gain  capital-loss  \\\n",
              "0  Machine-op-inspct    Own-child  Black    Male             0             0   \n",
              "1    Farming-fishing      Husband  White    Male             0             0   \n",
              "2    Protective-serv      Husband  White    Male             0             0   \n",
              "3  Machine-op-inspct      Husband  Black    Male          7688             0   \n",
              "4                  ?    Own-child  White  Female             0             0   \n",
              "\n",
              "   hours-per-week native-country income  \n",
              "0              40  United-States  <=50K  \n",
              "1              50  United-States  <=50K  \n",
              "2              40  United-States   >50K  \n",
              "3              40  United-States   >50K  \n",
              "4              30  United-States  <=50K  "
            ],
            "text/html": [
              "\n",
              "  <div id=\"df-fcac8c22-3d1e-4622-9974-8833172ab745\" class=\"colab-df-container\">\n",
              "    <div>\n",
              "<style scoped>\n",
              "    .dataframe tbody tr th:only-of-type {\n",
              "        vertical-align: middle;\n",
              "    }\n",
              "\n",
              "    .dataframe tbody tr th {\n",
              "        vertical-align: top;\n",
              "    }\n",
              "\n",
              "    .dataframe thead th {\n",
              "        text-align: right;\n",
              "    }\n",
              "</style>\n",
              "<table border=\"1\" class=\"dataframe\">\n",
              "  <thead>\n",
              "    <tr style=\"text-align: right;\">\n",
              "      <th></th>\n",
              "      <th>age</th>\n",
              "      <th>workclass</th>\n",
              "      <th>fnlwgt</th>\n",
              "      <th>education</th>\n",
              "      <th>educational-num</th>\n",
              "      <th>marital-status</th>\n",
              "      <th>occupation</th>\n",
              "      <th>relationship</th>\n",
              "      <th>race</th>\n",
              "      <th>gender</th>\n",
              "      <th>capital-gain</th>\n",
              "      <th>capital-loss</th>\n",
              "      <th>hours-per-week</th>\n",
              "      <th>native-country</th>\n",
              "      <th>income</th>\n",
              "    </tr>\n",
              "  </thead>\n",
              "  <tbody>\n",
              "    <tr>\n",
              "      <th>0</th>\n",
              "      <td>25</td>\n",
              "      <td>Private</td>\n",
              "      <td>226802</td>\n",
              "      <td>11th</td>\n",
              "      <td>7</td>\n",
              "      <td>Never-married</td>\n",
              "      <td>Machine-op-inspct</td>\n",
              "      <td>Own-child</td>\n",
              "      <td>Black</td>\n",
              "      <td>Male</td>\n",
              "      <td>0</td>\n",
              "      <td>0</td>\n",
              "      <td>40</td>\n",
              "      <td>United-States</td>\n",
              "      <td>&lt;=50K</td>\n",
              "    </tr>\n",
              "    <tr>\n",
              "      <th>1</th>\n",
              "      <td>38</td>\n",
              "      <td>Private</td>\n",
              "      <td>89814</td>\n",
              "      <td>HS-grad</td>\n",
              "      <td>9</td>\n",
              "      <td>Married-civ-spouse</td>\n",
              "      <td>Farming-fishing</td>\n",
              "      <td>Husband</td>\n",
              "      <td>White</td>\n",
              "      <td>Male</td>\n",
              "      <td>0</td>\n",
              "      <td>0</td>\n",
              "      <td>50</td>\n",
              "      <td>United-States</td>\n",
              "      <td>&lt;=50K</td>\n",
              "    </tr>\n",
              "    <tr>\n",
              "      <th>2</th>\n",
              "      <td>28</td>\n",
              "      <td>Local-gov</td>\n",
              "      <td>336951</td>\n",
              "      <td>Assoc-acdm</td>\n",
              "      <td>12</td>\n",
              "      <td>Married-civ-spouse</td>\n",
              "      <td>Protective-serv</td>\n",
              "      <td>Husband</td>\n",
              "      <td>White</td>\n",
              "      <td>Male</td>\n",
              "      <td>0</td>\n",
              "      <td>0</td>\n",
              "      <td>40</td>\n",
              "      <td>United-States</td>\n",
              "      <td>&gt;50K</td>\n",
              "    </tr>\n",
              "    <tr>\n",
              "      <th>3</th>\n",
              "      <td>44</td>\n",
              "      <td>Private</td>\n",
              "      <td>160323</td>\n",
              "      <td>Some-college</td>\n",
              "      <td>10</td>\n",
              "      <td>Married-civ-spouse</td>\n",
              "      <td>Machine-op-inspct</td>\n",
              "      <td>Husband</td>\n",
              "      <td>Black</td>\n",
              "      <td>Male</td>\n",
              "      <td>7688</td>\n",
              "      <td>0</td>\n",
              "      <td>40</td>\n",
              "      <td>United-States</td>\n",
              "      <td>&gt;50K</td>\n",
              "    </tr>\n",
              "    <tr>\n",
              "      <th>4</th>\n",
              "      <td>18</td>\n",
              "      <td>?</td>\n",
              "      <td>103497</td>\n",
              "      <td>Some-college</td>\n",
              "      <td>10</td>\n",
              "      <td>Never-married</td>\n",
              "      <td>?</td>\n",
              "      <td>Own-child</td>\n",
              "      <td>White</td>\n",
              "      <td>Female</td>\n",
              "      <td>0</td>\n",
              "      <td>0</td>\n",
              "      <td>30</td>\n",
              "      <td>United-States</td>\n",
              "      <td>&lt;=50K</td>\n",
              "    </tr>\n",
              "  </tbody>\n",
              "</table>\n",
              "</div>\n",
              "    <div class=\"colab-df-buttons\">\n",
              "\n",
              "  <div class=\"colab-df-container\">\n",
              "    <button class=\"colab-df-convert\" onclick=\"convertToInteractive('df-fcac8c22-3d1e-4622-9974-8833172ab745')\"\n",
              "            title=\"Convert this dataframe to an interactive table.\"\n",
              "            style=\"display:none;\">\n",
              "\n",
              "  <svg xmlns=\"http://www.w3.org/2000/svg\" height=\"24px\" viewBox=\"0 -960 960 960\">\n",
              "    <path d=\"M120-120v-720h720v720H120Zm60-500h600v-160H180v160Zm220 220h160v-160H400v160Zm0 220h160v-160H400v160ZM180-400h160v-160H180v160Zm440 0h160v-160H620v160ZM180-180h160v-160H180v160Zm440 0h160v-160H620v160Z\"/>\n",
              "  </svg>\n",
              "    </button>\n",
              "\n",
              "  <style>\n",
              "    .colab-df-container {\n",
              "      display:flex;\n",
              "      gap: 12px;\n",
              "    }\n",
              "\n",
              "    .colab-df-convert {\n",
              "      background-color: #E8F0FE;\n",
              "      border: none;\n",
              "      border-radius: 50%;\n",
              "      cursor: pointer;\n",
              "      display: none;\n",
              "      fill: #1967D2;\n",
              "      height: 32px;\n",
              "      padding: 0 0 0 0;\n",
              "      width: 32px;\n",
              "    }\n",
              "\n",
              "    .colab-df-convert:hover {\n",
              "      background-color: #E2EBFA;\n",
              "      box-shadow: 0px 1px 2px rgba(60, 64, 67, 0.3), 0px 1px 3px 1px rgba(60, 64, 67, 0.15);\n",
              "      fill: #174EA6;\n",
              "    }\n",
              "\n",
              "    .colab-df-buttons div {\n",
              "      margin-bottom: 4px;\n",
              "    }\n",
              "\n",
              "    [theme=dark] .colab-df-convert {\n",
              "      background-color: #3B4455;\n",
              "      fill: #D2E3FC;\n",
              "    }\n",
              "\n",
              "    [theme=dark] .colab-df-convert:hover {\n",
              "      background-color: #434B5C;\n",
              "      box-shadow: 0px 1px 3px 1px rgba(0, 0, 0, 0.15);\n",
              "      filter: drop-shadow(0px 1px 2px rgba(0, 0, 0, 0.3));\n",
              "      fill: #FFFFFF;\n",
              "    }\n",
              "  </style>\n",
              "\n",
              "    <script>\n",
              "      const buttonEl =\n",
              "        document.querySelector('#df-fcac8c22-3d1e-4622-9974-8833172ab745 button.colab-df-convert');\n",
              "      buttonEl.style.display =\n",
              "        google.colab.kernel.accessAllowed ? 'block' : 'none';\n",
              "\n",
              "      async function convertToInteractive(key) {\n",
              "        const element = document.querySelector('#df-fcac8c22-3d1e-4622-9974-8833172ab745');\n",
              "        const dataTable =\n",
              "          await google.colab.kernel.invokeFunction('convertToInteractive',\n",
              "                                                    [key], {});\n",
              "        if (!dataTable) return;\n",
              "\n",
              "        const docLinkHtml = 'Like what you see? Visit the ' +\n",
              "          '<a target=\"_blank\" href=https://colab.research.google.com/notebooks/data_table.ipynb>data table notebook</a>'\n",
              "          + ' to learn more about interactive tables.';\n",
              "        element.innerHTML = '';\n",
              "        dataTable['output_type'] = 'display_data';\n",
              "        await google.colab.output.renderOutput(dataTable, element);\n",
              "        const docLink = document.createElement('div');\n",
              "        docLink.innerHTML = docLinkHtml;\n",
              "        element.appendChild(docLink);\n",
              "      }\n",
              "    </script>\n",
              "  </div>\n",
              "\n",
              "\n",
              "<div id=\"df-93361bc5-0c92-4562-a3bb-9030f486e9bb\">\n",
              "  <button class=\"colab-df-quickchart\" onclick=\"quickchart('df-93361bc5-0c92-4562-a3bb-9030f486e9bb')\"\n",
              "            title=\"Suggest charts\"\n",
              "            style=\"display:none;\">\n",
              "\n",
              "<svg xmlns=\"http://www.w3.org/2000/svg\" height=\"24px\"viewBox=\"0 0 24 24\"\n",
              "     width=\"24px\">\n",
              "    <g>\n",
              "        <path d=\"M19 3H5c-1.1 0-2 .9-2 2v14c0 1.1.9 2 2 2h14c1.1 0 2-.9 2-2V5c0-1.1-.9-2-2-2zM9 17H7v-7h2v7zm4 0h-2V7h2v10zm4 0h-2v-4h2v4z\"/>\n",
              "    </g>\n",
              "</svg>\n",
              "  </button>\n",
              "\n",
              "<style>\n",
              "  .colab-df-quickchart {\n",
              "      --bg-color: #E8F0FE;\n",
              "      --fill-color: #1967D2;\n",
              "      --hover-bg-color: #E2EBFA;\n",
              "      --hover-fill-color: #174EA6;\n",
              "      --disabled-fill-color: #AAA;\n",
              "      --disabled-bg-color: #DDD;\n",
              "  }\n",
              "\n",
              "  [theme=dark] .colab-df-quickchart {\n",
              "      --bg-color: #3B4455;\n",
              "      --fill-color: #D2E3FC;\n",
              "      --hover-bg-color: #434B5C;\n",
              "      --hover-fill-color: #FFFFFF;\n",
              "      --disabled-bg-color: #3B4455;\n",
              "      --disabled-fill-color: #666;\n",
              "  }\n",
              "\n",
              "  .colab-df-quickchart {\n",
              "    background-color: var(--bg-color);\n",
              "    border: none;\n",
              "    border-radius: 50%;\n",
              "    cursor: pointer;\n",
              "    display: none;\n",
              "    fill: var(--fill-color);\n",
              "    height: 32px;\n",
              "    padding: 0;\n",
              "    width: 32px;\n",
              "  }\n",
              "\n",
              "  .colab-df-quickchart:hover {\n",
              "    background-color: var(--hover-bg-color);\n",
              "    box-shadow: 0 1px 2px rgba(60, 64, 67, 0.3), 0 1px 3px 1px rgba(60, 64, 67, 0.15);\n",
              "    fill: var(--button-hover-fill-color);\n",
              "  }\n",
              "\n",
              "  .colab-df-quickchart-complete:disabled,\n",
              "  .colab-df-quickchart-complete:disabled:hover {\n",
              "    background-color: var(--disabled-bg-color);\n",
              "    fill: var(--disabled-fill-color);\n",
              "    box-shadow: none;\n",
              "  }\n",
              "\n",
              "  .colab-df-spinner {\n",
              "    border: 2px solid var(--fill-color);\n",
              "    border-color: transparent;\n",
              "    border-bottom-color: var(--fill-color);\n",
              "    animation:\n",
              "      spin 1s steps(1) infinite;\n",
              "  }\n",
              "\n",
              "  @keyframes spin {\n",
              "    0% {\n",
              "      border-color: transparent;\n",
              "      border-bottom-color: var(--fill-color);\n",
              "      border-left-color: var(--fill-color);\n",
              "    }\n",
              "    20% {\n",
              "      border-color: transparent;\n",
              "      border-left-color: var(--fill-color);\n",
              "      border-top-color: var(--fill-color);\n",
              "    }\n",
              "    30% {\n",
              "      border-color: transparent;\n",
              "      border-left-color: var(--fill-color);\n",
              "      border-top-color: var(--fill-color);\n",
              "      border-right-color: var(--fill-color);\n",
              "    }\n",
              "    40% {\n",
              "      border-color: transparent;\n",
              "      border-right-color: var(--fill-color);\n",
              "      border-top-color: var(--fill-color);\n",
              "    }\n",
              "    60% {\n",
              "      border-color: transparent;\n",
              "      border-right-color: var(--fill-color);\n",
              "    }\n",
              "    80% {\n",
              "      border-color: transparent;\n",
              "      border-right-color: var(--fill-color);\n",
              "      border-bottom-color: var(--fill-color);\n",
              "    }\n",
              "    90% {\n",
              "      border-color: transparent;\n",
              "      border-bottom-color: var(--fill-color);\n",
              "    }\n",
              "  }\n",
              "</style>\n",
              "\n",
              "  <script>\n",
              "    async function quickchart(key) {\n",
              "      const quickchartButtonEl =\n",
              "        document.querySelector('#' + key + ' button');\n",
              "      quickchartButtonEl.disabled = true;  // To prevent multiple clicks.\n",
              "      quickchartButtonEl.classList.add('colab-df-spinner');\n",
              "      try {\n",
              "        const charts = await google.colab.kernel.invokeFunction(\n",
              "            'suggestCharts', [key], {});\n",
              "      } catch (error) {\n",
              "        console.error('Error during call to suggestCharts:', error);\n",
              "      }\n",
              "      quickchartButtonEl.classList.remove('colab-df-spinner');\n",
              "      quickchartButtonEl.classList.add('colab-df-quickchart-complete');\n",
              "    }\n",
              "    (() => {\n",
              "      let quickchartButtonEl =\n",
              "        document.querySelector('#df-93361bc5-0c92-4562-a3bb-9030f486e9bb button');\n",
              "      quickchartButtonEl.style.display =\n",
              "        google.colab.kernel.accessAllowed ? 'block' : 'none';\n",
              "    })();\n",
              "  </script>\n",
              "</div>\n",
              "\n",
              "    </div>\n",
              "  </div>\n"
            ],
            "application/vnd.google.colaboratory.intrinsic+json": {
              "type": "dataframe",
              "variable_name": "data",
              "summary": "{\n  \"name\": \"data\",\n  \"rows\": 48842,\n  \"fields\": [\n    {\n      \"column\": \"age\",\n      \"properties\": {\n        \"dtype\": \"number\",\n        \"std\": 13,\n        \"min\": 17,\n        \"max\": 90,\n        \"num_unique_values\": 74,\n        \"samples\": [\n          18,\n          74,\n          40\n        ],\n        \"semantic_type\": \"\",\n        \"description\": \"\"\n      }\n    },\n    {\n      \"column\": \"workclass\",\n      \"properties\": {\n        \"dtype\": \"category\",\n        \"num_unique_values\": 9,\n        \"samples\": [\n          \"Without-pay\",\n          \"Local-gov\",\n          \"State-gov\"\n        ],\n        \"semantic_type\": \"\",\n        \"description\": \"\"\n      }\n    },\n    {\n      \"column\": \"fnlwgt\",\n      \"properties\": {\n        \"dtype\": \"number\",\n        \"std\": 105604,\n        \"min\": 12285,\n        \"max\": 1490400,\n        \"num_unique_values\": 28523,\n        \"samples\": [\n          171041,\n          20296,\n          263896\n        ],\n        \"semantic_type\": \"\",\n        \"description\": \"\"\n      }\n    },\n    {\n      \"column\": \"education\",\n      \"properties\": {\n        \"dtype\": \"category\",\n        \"num_unique_values\": 16,\n        \"samples\": [\n          \"11th\",\n          \"HS-grad\",\n          \"Prof-school\"\n        ],\n        \"semantic_type\": \"\",\n        \"description\": \"\"\n      }\n    },\n    {\n      \"column\": \"educational-num\",\n      \"properties\": {\n        \"dtype\": \"number\",\n        \"std\": 2,\n        \"min\": 1,\n        \"max\": 16,\n        \"num_unique_values\": 16,\n        \"samples\": [\n          7,\n          9,\n          15\n        ],\n        \"semantic_type\": \"\",\n        \"description\": \"\"\n      }\n    },\n    {\n      \"column\": \"marital-status\",\n      \"properties\": {\n        \"dtype\": \"category\",\n        \"num_unique_values\": 7,\n        \"samples\": [\n          \"Never-married\",\n          \"Married-civ-spouse\",\n          \"Married-spouse-absent\"\n        ],\n        \"semantic_type\": \"\",\n        \"description\": \"\"\n      }\n    },\n    {\n      \"column\": \"occupation\",\n      \"properties\": {\n        \"dtype\": \"category\",\n        \"num_unique_values\": 15,\n        \"samples\": [\n          \"Tech-support\",\n          \"Priv-house-serv\",\n          \"Machine-op-inspct\"\n        ],\n        \"semantic_type\": \"\",\n        \"description\": \"\"\n      }\n    },\n    {\n      \"column\": \"relationship\",\n      \"properties\": {\n        \"dtype\": \"category\",\n        \"num_unique_values\": 6,\n        \"samples\": [\n          \"Own-child\",\n          \"Husband\",\n          \"Other-relative\"\n        ],\n        \"semantic_type\": \"\",\n        \"description\": \"\"\n      }\n    },\n    {\n      \"column\": \"race\",\n      \"properties\": {\n        \"dtype\": \"category\",\n        \"num_unique_values\": 5,\n        \"samples\": [\n          \"White\",\n          \"Amer-Indian-Eskimo\",\n          \"Asian-Pac-Islander\"\n        ],\n        \"semantic_type\": \"\",\n        \"description\": \"\"\n      }\n    },\n    {\n      \"column\": \"gender\",\n      \"properties\": {\n        \"dtype\": \"category\",\n        \"num_unique_values\": 2,\n        \"samples\": [\n          \"Female\",\n          \"Male\"\n        ],\n        \"semantic_type\": \"\",\n        \"description\": \"\"\n      }\n    },\n    {\n      \"column\": \"capital-gain\",\n      \"properties\": {\n        \"dtype\": \"number\",\n        \"std\": 7452,\n        \"min\": 0,\n        \"max\": 99999,\n        \"num_unique_values\": 123,\n        \"samples\": [\n          4064,\n          4787\n        ],\n        \"semantic_type\": \"\",\n        \"description\": \"\"\n      }\n    },\n    {\n      \"column\": \"capital-loss\",\n      \"properties\": {\n        \"dtype\": \"number\",\n        \"std\": 403,\n        \"min\": 0,\n        \"max\": 4356,\n        \"num_unique_values\": 99,\n        \"samples\": [\n          2238,\n          1564\n        ],\n        \"semantic_type\": \"\",\n        \"description\": \"\"\n      }\n    },\n    {\n      \"column\": \"hours-per-week\",\n      \"properties\": {\n        \"dtype\": \"number\",\n        \"std\": 12,\n        \"min\": 1,\n        \"max\": 99,\n        \"num_unique_values\": 96,\n        \"samples\": [\n          9,\n          11\n        ],\n        \"semantic_type\": \"\",\n        \"description\": \"\"\n      }\n    },\n    {\n      \"column\": \"native-country\",\n      \"properties\": {\n        \"dtype\": \"category\",\n        \"num_unique_values\": 42,\n        \"samples\": [\n          \"Canada\",\n          \"Vietnam\"\n        ],\n        \"semantic_type\": \"\",\n        \"description\": \"\"\n      }\n    },\n    {\n      \"column\": \"income\",\n      \"properties\": {\n        \"dtype\": \"category\",\n        \"num_unique_values\": 2,\n        \"samples\": [\n          \">50K\",\n          \"<=50K\"\n        ],\n        \"semantic_type\": \"\",\n        \"description\": \"\"\n      }\n    }\n  ]\n}"
            }
          },
          "metadata": {},
          "execution_count": 2
        }
      ]
    },
    {
      "cell_type": "markdown",
      "source": [
        "Converting columns to categorical or int."
      ],
      "metadata": {
        "id": "0vLCt7rS9XJX"
      }
    },
    {
      "cell_type": "code",
      "source": [
        "# List of columns to convert to categorical\n",
        "cols_to_convert1 = ['workclass', 'education', 'marital-status', 'occupation',\n",
        "                   'relationship', 'race', 'gender', 'native-country', 'income', 'educational-num']\n",
        "\n",
        "# Convert specified columns to categorical type\n",
        "data[cols_to_convert1] = data[cols_to_convert1].apply(lambda x: x.astype('category'))\n"
      ],
      "metadata": {
        "id": "PP3so6gfw2QN"
      },
      "execution_count": 3,
      "outputs": []
    },
    {
      "cell_type": "code",
      "source": [
        "# List of columns to convert to int\n",
        "cols_to_convert2 = ['age', 'fnlwgt', 'capital-gain',\n",
        "                   'capital-loss', 'hours-per-week']\n",
        "\n",
        "# Convert specified columns to int type\n",
        "data[cols_to_convert2] = data[cols_to_convert2].apply(lambda x: x.astype(int))"
      ],
      "metadata": {
        "id": "zfxNiep3w7_B"
      },
      "execution_count": 4,
      "outputs": []
    },
    {
      "cell_type": "code",
      "source": [
        "data.info()"
      ],
      "metadata": {
        "colab": {
          "base_uri": "https://localhost:8080/"
        },
        "id": "XVMUaUzqtHCG",
        "outputId": "89a8c8e0-e3bd-44d3-ce05-2deff5a3a88c"
      },
      "execution_count": 5,
      "outputs": [
        {
          "output_type": "stream",
          "name": "stdout",
          "text": [
            "<class 'pandas.core.frame.DataFrame'>\n",
            "RangeIndex: 48842 entries, 0 to 48841\n",
            "Data columns (total 15 columns):\n",
            " #   Column           Non-Null Count  Dtype   \n",
            "---  ------           --------------  -----   \n",
            " 0   age              48842 non-null  int64   \n",
            " 1   workclass        48842 non-null  category\n",
            " 2   fnlwgt           48842 non-null  int64   \n",
            " 3   education        48842 non-null  category\n",
            " 4   educational-num  48842 non-null  category\n",
            " 5   marital-status   48842 non-null  category\n",
            " 6   occupation       48842 non-null  category\n",
            " 7   relationship     48842 non-null  category\n",
            " 8   race             48842 non-null  category\n",
            " 9   gender           48842 non-null  category\n",
            " 10  capital-gain     48842 non-null  int64   \n",
            " 11  capital-loss     48842 non-null  int64   \n",
            " 12  hours-per-week   48842 non-null  int64   \n",
            " 13  native-country   48842 non-null  category\n",
            " 14  income           48842 non-null  category\n",
            "dtypes: category(10), int64(5)\n",
            "memory usage: 2.3 MB\n"
          ]
        }
      ]
    },
    {
      "cell_type": "code",
      "source": [
        "# Create a dictionary to store the contingency tables\n",
        "contingency_tables = {}\n",
        "\n",
        "# Generate contingency tables for each categorical column\n",
        "for col in cols_to_convert1:\n",
        "    contingency_tables[col] = data[col].value_counts()\n",
        "\n",
        "# Display the contingency tables\n",
        "for col, table in contingency_tables.items():\n",
        "    print(f\"Contingency Table for {col}:\\n\")\n",
        "    print(table)\n",
        "    print(\"\\n\")\n"
      ],
      "metadata": {
        "colab": {
          "base_uri": "https://localhost:8080/"
        },
        "collapsed": true,
        "id": "76GlWrM_yD3q",
        "outputId": "139fe20b-b82f-4c99-c25f-1cfae83f0740"
      },
      "execution_count": 6,
      "outputs": [
        {
          "output_type": "stream",
          "name": "stdout",
          "text": [
            "Contingency Table for workclass:\n",
            "\n",
            "workclass\n",
            "Private             33906\n",
            "Self-emp-not-inc     3862\n",
            "Local-gov            3136\n",
            "?                    2799\n",
            "State-gov            1981\n",
            "Self-emp-inc         1695\n",
            "Federal-gov          1432\n",
            "Without-pay            21\n",
            "Never-worked           10\n",
            "Name: count, dtype: int64\n",
            "\n",
            "\n",
            "Contingency Table for education:\n",
            "\n",
            "education\n",
            "HS-grad         15784\n",
            "Some-college    10878\n",
            "Bachelors        8025\n",
            "Masters          2657\n",
            "Assoc-voc        2061\n",
            "11th             1812\n",
            "Assoc-acdm       1601\n",
            "10th             1389\n",
            "7th-8th           955\n",
            "Prof-school       834\n",
            "9th               756\n",
            "12th              657\n",
            "Doctorate         594\n",
            "5th-6th           509\n",
            "1st-4th           247\n",
            "Preschool          83\n",
            "Name: count, dtype: int64\n",
            "\n",
            "\n",
            "Contingency Table for marital-status:\n",
            "\n",
            "marital-status\n",
            "Married-civ-spouse       22379\n",
            "Never-married            16117\n",
            "Divorced                  6633\n",
            "Separated                 1530\n",
            "Widowed                   1518\n",
            "Married-spouse-absent      628\n",
            "Married-AF-spouse           37\n",
            "Name: count, dtype: int64\n",
            "\n",
            "\n",
            "Contingency Table for occupation:\n",
            "\n",
            "occupation\n",
            "Prof-specialty       6172\n",
            "Craft-repair         6112\n",
            "Exec-managerial      6086\n",
            "Adm-clerical         5611\n",
            "Sales                5504\n",
            "Other-service        4923\n",
            "Machine-op-inspct    3022\n",
            "?                    2809\n",
            "Transport-moving     2355\n",
            "Handlers-cleaners    2072\n",
            "Farming-fishing      1490\n",
            "Tech-support         1446\n",
            "Protective-serv       983\n",
            "Priv-house-serv       242\n",
            "Armed-Forces           15\n",
            "Name: count, dtype: int64\n",
            "\n",
            "\n",
            "Contingency Table for relationship:\n",
            "\n",
            "relationship\n",
            "Husband           19716\n",
            "Not-in-family     12583\n",
            "Own-child          7581\n",
            "Unmarried          5125\n",
            "Wife               2331\n",
            "Other-relative     1506\n",
            "Name: count, dtype: int64\n",
            "\n",
            "\n",
            "Contingency Table for race:\n",
            "\n",
            "race\n",
            "White                 41762\n",
            "Black                  4685\n",
            "Asian-Pac-Islander     1519\n",
            "Amer-Indian-Eskimo      470\n",
            "Other                   406\n",
            "Name: count, dtype: int64\n",
            "\n",
            "\n",
            "Contingency Table for gender:\n",
            "\n",
            "gender\n",
            "Male      32650\n",
            "Female    16192\n",
            "Name: count, dtype: int64\n",
            "\n",
            "\n",
            "Contingency Table for native-country:\n",
            "\n",
            "native-country\n",
            "United-States                 43832\n",
            "Mexico                          951\n",
            "?                               857\n",
            "Philippines                     295\n",
            "Germany                         206\n",
            "Puerto-Rico                     184\n",
            "Canada                          182\n",
            "El-Salvador                     155\n",
            "India                           151\n",
            "Cuba                            138\n",
            "England                         127\n",
            "China                           122\n",
            "South                           115\n",
            "Jamaica                         106\n",
            "Italy                           105\n",
            "Dominican-Republic              103\n",
            "Japan                            92\n",
            "Guatemala                        88\n",
            "Poland                           87\n",
            "Vietnam                          86\n",
            "Columbia                         85\n",
            "Haiti                            75\n",
            "Portugal                         67\n",
            "Taiwan                           65\n",
            "Iran                             59\n",
            "Greece                           49\n",
            "Nicaragua                        49\n",
            "Peru                             46\n",
            "Ecuador                          45\n",
            "France                           38\n",
            "Ireland                          37\n",
            "Hong                             30\n",
            "Thailand                         30\n",
            "Cambodia                         28\n",
            "Trinadad&Tobago                  27\n",
            "Outlying-US(Guam-USVI-etc)       23\n",
            "Laos                             23\n",
            "Yugoslavia                       23\n",
            "Scotland                         21\n",
            "Honduras                         20\n",
            "Hungary                          19\n",
            "Holand-Netherlands                1\n",
            "Name: count, dtype: int64\n",
            "\n",
            "\n",
            "Contingency Table for income:\n",
            "\n",
            "income\n",
            "<=50K    37155\n",
            ">50K     11687\n",
            "Name: count, dtype: int64\n",
            "\n",
            "\n",
            "Contingency Table for educational-num:\n",
            "\n",
            "educational-num\n",
            "9     15784\n",
            "10    10878\n",
            "13     8025\n",
            "14     2657\n",
            "11     2061\n",
            "7      1812\n",
            "12     1601\n",
            "6      1389\n",
            "4       955\n",
            "15      834\n",
            "5       756\n",
            "8       657\n",
            "16      594\n",
            "3       509\n",
            "2       247\n",
            "1        83\n",
            "Name: count, dtype: int64\n",
            "\n",
            "\n"
          ]
        }
      ]
    },
    {
      "cell_type": "code",
      "source": [
        "data.info()"
      ],
      "metadata": {
        "colab": {
          "base_uri": "https://localhost:8080/"
        },
        "id": "PjZalXKCv21y",
        "outputId": "387e8275-f830-47b6-a3a0-a13947b137a9"
      },
      "execution_count": 7,
      "outputs": [
        {
          "output_type": "stream",
          "name": "stdout",
          "text": [
            "<class 'pandas.core.frame.DataFrame'>\n",
            "RangeIndex: 48842 entries, 0 to 48841\n",
            "Data columns (total 15 columns):\n",
            " #   Column           Non-Null Count  Dtype   \n",
            "---  ------           --------------  -----   \n",
            " 0   age              48842 non-null  int64   \n",
            " 1   workclass        48842 non-null  category\n",
            " 2   fnlwgt           48842 non-null  int64   \n",
            " 3   education        48842 non-null  category\n",
            " 4   educational-num  48842 non-null  category\n",
            " 5   marital-status   48842 non-null  category\n",
            " 6   occupation       48842 non-null  category\n",
            " 7   relationship     48842 non-null  category\n",
            " 8   race             48842 non-null  category\n",
            " 9   gender           48842 non-null  category\n",
            " 10  capital-gain     48842 non-null  int64   \n",
            " 11  capital-loss     48842 non-null  int64   \n",
            " 12  hours-per-week   48842 non-null  int64   \n",
            " 13  native-country   48842 non-null  category\n",
            " 14  income           48842 non-null  category\n",
            "dtypes: category(10), int64(5)\n",
            "memory usage: 2.3 MB\n"
          ]
        }
      ]
    },
    {
      "cell_type": "markdown",
      "source": [
        "Aggregations of values in columns"
      ],
      "metadata": {
        "id": "7mKCnbzV9pKY"
      }
    },
    {
      "cell_type": "code",
      "source": [
        "data['workclass'] = data['workclass'].replace({'Local-gov': 'SL-gov', 'Federal-gov': 'SL-gov'})\n",
        "data['workclass'] = data['workclass'].replace({'Self-emp-inc': 'Self-emp', 'Self-emp-not-inc': 'Self-emp'})\n",
        "data['workclass'].value_counts()"
      ],
      "metadata": {
        "colab": {
          "base_uri": "https://localhost:8080/",
          "height": 335
        },
        "id": "nae3GeI1zTRK",
        "outputId": "c9e6e011-3025-4bca-f8b4-4ffe3401651a"
      },
      "execution_count": 8,
      "outputs": [
        {
          "output_type": "execute_result",
          "data": {
            "text/plain": [
              "workclass\n",
              "Private         33906\n",
              "Self-emp         5557\n",
              "SL-gov           4568\n",
              "?                2799\n",
              "State-gov        1981\n",
              "Without-pay        21\n",
              "Never-worked       10\n",
              "Name: count, dtype: int64"
            ],
            "text/html": [
              "<table border=\"1\" class=\"dataframe\">\n",
              "  <thead>\n",
              "    <tr style=\"text-align: right;\">\n",
              "      <th></th>\n",
              "      <th>count</th>\n",
              "    </tr>\n",
              "    <tr>\n",
              "      <th>workclass</th>\n",
              "      <th></th>\n",
              "    </tr>\n",
              "  </thead>\n",
              "  <tbody>\n",
              "    <tr>\n",
              "      <th>Private</th>\n",
              "      <td>33906</td>\n",
              "    </tr>\n",
              "    <tr>\n",
              "      <th>Self-emp</th>\n",
              "      <td>5557</td>\n",
              "    </tr>\n",
              "    <tr>\n",
              "      <th>SL-gov</th>\n",
              "      <td>4568</td>\n",
              "    </tr>\n",
              "    <tr>\n",
              "      <th>?</th>\n",
              "      <td>2799</td>\n",
              "    </tr>\n",
              "    <tr>\n",
              "      <th>State-gov</th>\n",
              "      <td>1981</td>\n",
              "    </tr>\n",
              "    <tr>\n",
              "      <th>Without-pay</th>\n",
              "      <td>21</td>\n",
              "    </tr>\n",
              "    <tr>\n",
              "      <th>Never-worked</th>\n",
              "      <td>10</td>\n",
              "    </tr>\n",
              "  </tbody>\n",
              "</table><br><label><b>dtype:</b> int64</label>"
            ]
          },
          "metadata": {},
          "execution_count": 8
        }
      ]
    },
    {
      "cell_type": "code",
      "source": [
        "data['marital-status'] = data['marital-status'].replace({'Divorced' : 'Not-Married','Widowed': 'Not-Married'})\n",
        "data['marital-status'] = data['marital-status'].replace({'Separated' : 'Married', 'Married-civ-spouse' : 'Married', 'Married-spouse-absent' : 'Married', 'Married-AF-spouse' : 'Married'})\n",
        "data['marital-status'].value_counts()"
      ],
      "metadata": {
        "colab": {
          "base_uri": "https://localhost:8080/",
          "height": 209
        },
        "id": "TIsWfIh30kTm",
        "outputId": "a1f12eea-2160-4ad9-84e2-484e8f550b17"
      },
      "execution_count": 9,
      "outputs": [
        {
          "output_type": "execute_result",
          "data": {
            "text/plain": [
              "marital-status\n",
              "Married          24574\n",
              "Never-married    16117\n",
              "Not-Married       8151\n",
              "Name: count, dtype: int64"
            ],
            "text/html": [
              "<table border=\"1\" class=\"dataframe\">\n",
              "  <thead>\n",
              "    <tr style=\"text-align: right;\">\n",
              "      <th></th>\n",
              "      <th>count</th>\n",
              "    </tr>\n",
              "    <tr>\n",
              "      <th>marital-status</th>\n",
              "      <th></th>\n",
              "    </tr>\n",
              "  </thead>\n",
              "  <tbody>\n",
              "    <tr>\n",
              "      <th>Married</th>\n",
              "      <td>24574</td>\n",
              "    </tr>\n",
              "    <tr>\n",
              "      <th>Never-married</th>\n",
              "      <td>16117</td>\n",
              "    </tr>\n",
              "    <tr>\n",
              "      <th>Not-Married</th>\n",
              "      <td>8151</td>\n",
              "    </tr>\n",
              "  </tbody>\n",
              "</table><br><label><b>dtype:</b> int64</label>"
            ]
          },
          "metadata": {},
          "execution_count": 9
        }
      ]
    },
    {
      "cell_type": "code",
      "source": [
        "# Replace specified values in the 'native.country' column\n",
        "data['native-country'] = data['native-country'].replace({\n",
        "    \"United-States\": \"North-America\", \"Canada\": \"North-America\", \"Outlying-US(Guam-USVI-etc)\": \"North-America\",\n",
        "    \"Mexico\": \"North-America\", \"Cuba\": \"North-America\", \"Jamaica\": \"North-America\", \"Haiti\": \"North-America\",\n",
        "    \"Dominican-Republic\": \"North-America\", \"Guatemala\": \"North-America\", \"El-Salvador\": \"North-America\",\n",
        "    \"Nicaragua\": \"North-America\", \"Trinadad&Tobago\": \"North-America\", \"Puerto-Rico\": \"North-America\", \"Honduras\": \"North-America\",\n",
        "    \"England\": \"Europe\", \"Germany\": \"Europe\", \"Italy\": \"Europe\", \"Poland\": \"Europe\", \"Portugal\": \"Europe\",\n",
        "    \"France\": \"Europe\", \"Yugoslavia\": \"Europe\", \"Scotland\": \"Europe\", \"Greece\": \"Europe\",\n",
        "    \"Ireland\": \"Europe\", \"Hungary\": \"Europe\", \"Holand-Netherlands\": \"Europe\",\n",
        "    \"Ecuador\": \"South-America\", \"Peru\": \"South-America\", \"Columbia\": \"South-America\", \"South\": \"South-America\",\n",
        "    \"India\": \"Asia\", \"Iran\": \"Asia\", \"Philippines\": \"Asia\", \"Cambodia\": \"Asia\",\n",
        "    \"Thailand\": \"Asia\", \"Laos\": \"Asia\", \"Taiwan\": \"Asia\", \"China\": \"Asia\", \"Japan\": \"Asia\",\n",
        "    \"Vietnam\": \"Asia\", \"Hong\": \"Asia\"\n",
        "})\n",
        "\n",
        "# Display unique values in the 'native-country' column\n",
        "data['native-country'].value_counts()"
      ],
      "metadata": {
        "colab": {
          "base_uri": "https://localhost:8080/",
          "height": 272
        },
        "id": "L_Guvdu846GB",
        "outputId": "f06e0d29-8f82-4a9b-cec4-4d5e422a0438"
      },
      "execution_count": 10,
      "outputs": [
        {
          "output_type": "execute_result",
          "data": {
            "text/plain": [
              "native-country\n",
              "North-America    45933\n",
              "Asia               981\n",
              "?                  857\n",
              "Europe             780\n",
              "South-America      291\n",
              "Name: count, dtype: int64"
            ],
            "text/html": [
              "<table border=\"1\" class=\"dataframe\">\n",
              "  <thead>\n",
              "    <tr style=\"text-align: right;\">\n",
              "      <th></th>\n",
              "      <th>count</th>\n",
              "    </tr>\n",
              "    <tr>\n",
              "      <th>native-country</th>\n",
              "      <th></th>\n",
              "    </tr>\n",
              "  </thead>\n",
              "  <tbody>\n",
              "    <tr>\n",
              "      <th>North-America</th>\n",
              "      <td>45933</td>\n",
              "    </tr>\n",
              "    <tr>\n",
              "      <th>Asia</th>\n",
              "      <td>981</td>\n",
              "    </tr>\n",
              "    <tr>\n",
              "      <th>?</th>\n",
              "      <td>857</td>\n",
              "    </tr>\n",
              "    <tr>\n",
              "      <th>Europe</th>\n",
              "      <td>780</td>\n",
              "    </tr>\n",
              "    <tr>\n",
              "      <th>South-America</th>\n",
              "      <td>291</td>\n",
              "    </tr>\n",
              "  </tbody>\n",
              "</table><br><label><b>dtype:</b> int64</label>"
            ]
          },
          "metadata": {},
          "execution_count": 10
        }
      ]
    },
    {
      "cell_type": "markdown",
      "source": [
        "Replacing \"?\" with NA"
      ],
      "metadata": {
        "id": "NcKNipCD-FJ5"
      }
    },
    {
      "cell_type": "code",
      "source": [
        "# Replace \"?\" with NaN\n",
        "data.replace(\"?\", pd.NA, inplace=True)\n",
        "\n",
        "# Display the table of missing values\n",
        "missing_values_table = data.isna().sum()\n",
        "print(missing_values_table)"
      ],
      "metadata": {
        "colab": {
          "base_uri": "https://localhost:8080/"
        },
        "id": "Ff1oQ2795MFF",
        "outputId": "5ed6f3d8-9469-4756-c949-0f13bb7777cc"
      },
      "execution_count": 11,
      "outputs": [
        {
          "output_type": "stream",
          "name": "stdout",
          "text": [
            "age                   0\n",
            "workclass          2799\n",
            "fnlwgt                0\n",
            "education             0\n",
            "educational-num       0\n",
            "marital-status        0\n",
            "occupation         2809\n",
            "relationship          0\n",
            "race                  0\n",
            "gender                0\n",
            "capital-gain          0\n",
            "capital-loss          0\n",
            "hours-per-week        0\n",
            "native-country      857\n",
            "income                0\n",
            "dtype: int64\n"
          ]
        }
      ]
    },
    {
      "cell_type": "markdown",
      "source": [
        "Removing NAs"
      ],
      "metadata": {
        "id": "xFHADJeh-Jyt"
      }
    },
    {
      "cell_type": "code",
      "source": [
        "data = data.dropna()"
      ],
      "metadata": {
        "id": "OBGCwjDt5sEd"
      },
      "execution_count": 12,
      "outputs": []
    },
    {
      "cell_type": "code",
      "source": [
        "data.info()"
      ],
      "metadata": {
        "colab": {
          "base_uri": "https://localhost:8080/"
        },
        "id": "iQtd6eMD5vCl",
        "outputId": "a48fd1b5-f96a-4b84-86fc-e4ee3df6e140"
      },
      "execution_count": 13,
      "outputs": [
        {
          "output_type": "stream",
          "name": "stdout",
          "text": [
            "<class 'pandas.core.frame.DataFrame'>\n",
            "Index: 45222 entries, 0 to 48841\n",
            "Data columns (total 15 columns):\n",
            " #   Column           Non-Null Count  Dtype   \n",
            "---  ------           --------------  -----   \n",
            " 0   age              45222 non-null  int64   \n",
            " 1   workclass        45222 non-null  category\n",
            " 2   fnlwgt           45222 non-null  int64   \n",
            " 3   education        45222 non-null  category\n",
            " 4   educational-num  45222 non-null  category\n",
            " 5   marital-status   45222 non-null  category\n",
            " 6   occupation       45222 non-null  category\n",
            " 7   relationship     45222 non-null  category\n",
            " 8   race             45222 non-null  category\n",
            " 9   gender           45222 non-null  category\n",
            " 10  capital-gain     45222 non-null  int64   \n",
            " 11  capital-loss     45222 non-null  int64   \n",
            " 12  hours-per-week   45222 non-null  int64   \n",
            " 13  native-country   45222 non-null  category\n",
            " 14  income           45222 non-null  category\n",
            "dtypes: category(10), int64(5)\n",
            "memory usage: 2.5 MB\n"
          ]
        }
      ]
    },
    {
      "cell_type": "markdown",
      "source": [
        "Descriptive statistics of numerical values\n"
      ],
      "metadata": {
        "id": "9DLMrKFU-PFX"
      }
    },
    {
      "cell_type": "code",
      "source": [
        "# Display basic statistics for numerical columns\n",
        "numerical_summary = data.describe()\n",
        "print(numerical_summary)\n"
      ],
      "metadata": {
        "colab": {
          "base_uri": "https://localhost:8080/"
        },
        "id": "MHvO4Zdy6kmY",
        "outputId": "c32c555b-4546-4230-d4fd-d1f9eb006daf"
      },
      "execution_count": 14,
      "outputs": [
        {
          "output_type": "stream",
          "name": "stdout",
          "text": [
            "                age        fnlwgt  capital-gain  capital-loss  hours-per-week\n",
            "count  45222.000000  4.522200e+04  45222.000000  45222.000000    45222.000000\n",
            "mean      38.547941  1.897347e+05   1101.430344     88.595418       40.938017\n",
            "std       13.217870  1.056392e+05   7506.430084    404.956092       12.007508\n",
            "min       17.000000  1.349200e+04      0.000000      0.000000        1.000000\n",
            "25%       28.000000  1.173882e+05      0.000000      0.000000       40.000000\n",
            "50%       37.000000  1.783160e+05      0.000000      0.000000       40.000000\n",
            "75%       47.000000  2.379260e+05      0.000000      0.000000       45.000000\n",
            "max       90.000000  1.490400e+06  99999.000000   4356.000000       99.000000\n"
          ]
        }
      ]
    },
    {
      "cell_type": "markdown",
      "source": [
        "Histograms"
      ],
      "metadata": {
        "id": "b6tgCAec-cjT"
      }
    },
    {
      "cell_type": "code",
      "source": [
        "# Select numerical columns\n",
        "numerical_columns = data.select_dtypes(include=['number']).columns\n",
        "\n",
        "# Set up the figure and axes\n",
        "fig, axes = plt.subplots(nrows=2, ncols=3, figsize=(15, 10))\n",
        "axes = axes.flatten()\n",
        "\n",
        "# Create histograms for each numerical column\n",
        "for ax, col in zip(axes, numerical_columns):\n",
        "    ax.hist(data[col].dropna(), bins=30, edgecolor='k', alpha=0.7)\n",
        "    ax.set_title(f'Histogram of {col}')\n",
        "    ax.set_xlabel(col)\n",
        "    ax.set_ylabel('Frequency')\n",
        "\n",
        "# Adjust layout to prevent overlap\n",
        "plt.tight_layout()\n",
        "plt.show()"
      ],
      "metadata": {
        "colab": {
          "base_uri": "https://localhost:8080/",
          "height": 756
        },
        "id": "1YGvDcaR7SeH",
        "outputId": "ee86daea-4255-4be3-a118-ec087e4d5393"
      },
      "execution_count": 15,
      "outputs": [
        {
          "output_type": "display_data",
          "data": {
            "text/plain": [
              "<Figure size 1500x1000 with 6 Axes>"
            ],
            "image/png": "[encoded data removed]"
          },
          "metadata": {}
        }
      ]
    },
    {
      "cell_type": "markdown",
      "source": [
        "Removing outliner"
      ],
      "metadata": {
        "id": "Y7JYAhBv-jjf"
      }
    },
    {
      "cell_type": "code",
      "source": [
        "# Find the maximum value in the 'capital-gain' column\n",
        "max_value = data['capital-gain'].max()\n",
        "print(max_value)"
      ],
      "metadata": {
        "colab": {
          "base_uri": "https://localhost:8080/"
        },
        "id": "FDI16hBF8dZV",
        "outputId": "ea4268ae-f3ff-4d9f-9bba-b7ef218c2036"
      },
      "execution_count": 16,
      "outputs": [
        {
          "output_type": "stream",
          "name": "stdout",
          "text": [
            "99999\n"
          ]
        }
      ]
    },
    {
      "cell_type": "code",
      "source": [
        "# Remove rows with 'capital-gain' equal to 99999\n",
        "data = data[data['capital-gain'] != 99999]"
      ],
      "metadata": {
        "id": "EwEf2kbp8wS9"
      },
      "execution_count": 17,
      "outputs": []
    },
    {
      "cell_type": "markdown",
      "source": [
        "Splitting the data into traininf and testing set"
      ],
      "metadata": {
        "id": "t01tswitqQLO"
      }
    },
    {
      "cell_type": "code",
      "source": [
        "data['income'] = data['income'].map({'<=50K': 0, '>50K': 1})\n",
        "\n",
        "# Split the data into training and testing sets\n",
        "train, test = train_test_split(data, test_size=0.2, random_state=123)\n",
        "# Display the sizes of the training and testing sets\n",
        "print(f\"Training set size: {train.shape}\")\n",
        "print(f\"Testing set size: {test.shape}\")"
      ],
      "metadata": {
        "colab": {
          "base_uri": "https://localhost:8080/"
        },
        "id": "PQs19Vqjv1lZ",
        "outputId": "6b96088c-d4e1-4ed1-9742-66a9cf931428"
      },
      "execution_count": 18,
      "outputs": [
        {
          "output_type": "stream",
          "name": "stdout",
          "text": [
            "Training set size: (35994, 15)\n",
            "Testing set size: (8999, 15)\n"
          ]
        }
      ]
    },
    {
      "cell_type": "code",
      "source": [
        "X_train = train.drop(\"income\", axis=1)\n",
        "y_train = train[\"income\"]\n",
        "X_test = test.drop(\"income\", axis=1)\n",
        "y_test = test[\"income\"]"
      ],
      "metadata": {
        "id": "GDFxTHu3veQW"
      },
      "execution_count": 19,
      "outputs": []
    },
    {
      "cell_type": "code",
      "source": [
        "\n",
        "\n",
        "# One-hot encoding\n",
        "categorical_cols = X_train.select_dtypes(include=['object', 'category']).columns\n",
        "\n",
        "preprocessor = ColumnTransformer(\n",
        "    transformers=[\n",
        "        ('cat', OneHotEncoder(handle_unknown='ignore'), categorical_cols)\n",
        "    ],\n",
        "    remainder='passthrough'\n",
        ")\n",
        "\n",
        "# Train and test data transformation\n",
        "X_train_transformed = preprocessor.fit_transform(X_train)\n",
        "X_test_transformed = preprocessor.transform(X_test)\n",
        "\n",
        "# Getting new names of features\n",
        "encoded_feature_names = preprocessor.named_transformers_['cat'].get_feature_names_out(categorical_cols)\n",
        "all_feature_names = np.concatenate([encoded_feature_names, X_train.drop(columns=categorical_cols).columns])\n",
        "\n",
        "\n",
        "print(f\"Number of features after one-hot encoding: {X_train_transformed.shape[1]}\")\n",
        "print(f\"Number of features names: {len(all_feature_names)}\")\n"
      ],
      "metadata": {
        "colab": {
          "base_uri": "https://localhost:8080/"
        },
        "id": "6x1hLGvoG7Kh",
        "outputId": "3b877540-2347-481b-877d-56298cd8b235"
      },
      "execution_count": 20,
      "outputs": [
        {
          "output_type": "stream",
          "name": "stdout",
          "text": [
            "Number of features after one-hot encoding: 76\n",
            "Number of features names: 76\n"
          ]
        }
      ]
    },
    {
      "cell_type": "markdown",
      "source": [
        "## Creating models"
      ],
      "metadata": {
        "id": "DbZV_BQYAjr3"
      }
    },
    {
      "cell_type": "markdown",
      "source": [
        "Basic Logistic Regression model"
      ],
      "metadata": {
        "id": "5x6AwDkLquan"
      }
    },
    {
      "cell_type": "code",
      "source": [
        "# Logistic Regression Model\n",
        "logistic_model = LogisticRegression(random_state=123, max_iter= 10000)\n",
        "logistic_model.fit(X_train_transformed, y_train)\n",
        "\n",
        "# Predictions\n",
        "logistic_predictions = logistic_model.predict(X_test_transformed)\n",
        "\n",
        "# Evaluate the model\n",
        "logistic_accuracy = accuracy_score(y_test, logistic_predictions)\n",
        "\n",
        "print(f\"Logistic Regression - Accuracy: {logistic_accuracy}\")\n"
      ],
      "metadata": {
        "colab": {
          "base_uri": "https://localhost:8080/"
        },
        "id": "zWF1TWqbAR61",
        "outputId": "1fb44b04-52b3-4a53-e731-a8a00d9b1491"
      },
      "execution_count": 21,
      "outputs": [
        {
          "output_type": "stream",
          "name": "stdout",
          "text": [
            "Logistic Regression - Accuracy: 0.7880875652850317\n"
          ]
        }
      ]
    },
    {
      "cell_type": "markdown",
      "source": [
        "Basic Random Forest model"
      ],
      "metadata": {
        "id": "EGJ9TBQKqysu"
      }
    },
    {
      "cell_type": "code",
      "source": [
        "# Random Forest Model\n",
        "forest_model = RandomForestClassifier(random_state=123)\n",
        "forest_model.fit(X_train_transformed, y_train)\n",
        "\n",
        "# Predictions\n",
        "forest_predictions = forest_model.predict(X_test_transformed)\n",
        "\n",
        "# Evaluate the model\n",
        "forest_accuracy = accuracy_score(y_test, forest_predictions)\n",
        "\n",
        "print(f\"Random Forest - Accuracy: {forest_accuracy}\")\n"
      ],
      "metadata": {
        "colab": {
          "base_uri": "https://localhost:8080/"
        },
        "id": "9WfC0MmuA78f",
        "outputId": "67a169c9-2a5d-44d6-f1ee-cfe10195c528"
      },
      "execution_count": 22,
      "outputs": [
        {
          "output_type": "stream",
          "name": "stdout",
          "text": [
            "Random Forest - Accuracy: 0.8446494054894989\n"
          ]
        }
      ]
    },
    {
      "cell_type": "markdown",
      "source": [
        "Basic Gradient Boosting model"
      ],
      "metadata": {
        "id": "ptIKaJTdq48q"
      }
    },
    {
      "cell_type": "code",
      "source": [
        "# Gradient Boosting Model\n",
        "boosting_model = GradientBoostingClassifier(random_state=123)\n",
        "boosting_model.fit(X_train_transformed, y_train)\n",
        "\n",
        "# Predictions\n",
        "boosting_predictions = boosting_model.predict(X_test_transformed)\n",
        "\n",
        "# Evaluate the model\n",
        "boosting_accuracy = accuracy_score(y_test, boosting_predictions)\n",
        "\n",
        "print(f\"Boosting Trees - Accuracy: {boosting_accuracy}\")\n"
      ],
      "metadata": {
        "colab": {
          "base_uri": "https://localhost:8080/"
        },
        "id": "ZcVykqZZICox",
        "outputId": "24f2538f-35a9-4bd0-ca20-7ba95ac993a4"
      },
      "execution_count": 23,
      "outputs": [
        {
          "output_type": "stream",
          "name": "stdout",
          "text": [
            "Boosting Trees - Accuracy: 0.8597621957995333\n"
          ]
        }
      ]
    },
    {
      "cell_type": "markdown",
      "source": [
        "Using RFECV (Recursive Feature Elimination with Cross-Validation) to choose best features for our models. It recursivly eliminates features untill we get the best accuracy for our model. It is combined with cross-validaiton to get more statisticlly significant results."
      ],
      "metadata": {
        "id": "skZyHZTMq7ry"
      }
    },
    {
      "cell_type": "code",
      "source": [
        "# Initialize the logistic regression model\n",
        "logistic_model = LogisticRegression(random_state=123, max_iter=10000)\n",
        "\n",
        "# Initialize RFECV with the logistic regression model\n",
        "rfecv_logistic = RFECV(estimator=logistic_model, step=1, cv=StratifiedKFold(3), scoring='accuracy')\n",
        "\n",
        "# Fit RFECV\n",
        "rfecv_logistic.fit(X_train_transformed, y_train)\n",
        "\n",
        "# Print the optimal number of features and the selected features\n",
        "print(f\"Optimal number of features for Logistic Regression: {rfecv_logistic.n_features_}\")\n",
        "selected_features_logistic = all_feature_names[rfecv_logistic.support_]\n",
        "print(f\"Selected features: {selected_features_logistic}\")\n",
        "\n",
        "# Train the logistic regression model with selected features\n",
        "logistic_model.fit(X_train_transformed[:, rfecv_logistic.support_], y_train)\n",
        "\n",
        "# Predictions\n",
        "logistic_predictions = logistic_model.predict(X_test_transformed[:, rfecv_logistic.support_])\n",
        "\n",
        "# Evaluate the model\n",
        "logistic_accuracy = accuracy_score(y_test, logistic_predictions)\n",
        "print(f\"Optimized Logistic Regression - Accuracy: {logistic_accuracy}\")\n"
      ],
      "metadata": {
        "colab": {
          "base_uri": "https://localhost:8080/"
        },
        "id": "cKsncqHXIJI8",
        "outputId": "c40b388e-84d4-47b0-9f3d-c144bf854bc1"
      },
      "execution_count": 24,
      "outputs": [
        {
          "output_type": "stream",
          "name": "stdout",
          "text": [
            "Optimal number of features for Logistic Regression: 67\n",
            "Selected features: ['workclass_Private' 'workclass_SL-gov' 'workclass_Self-emp'\n",
            " 'workclass_State-gov' 'education_10th' 'education_11th' 'education_12th'\n",
            " 'education_1st-4th' 'education_5th-6th' 'education_7th-8th'\n",
            " 'education_9th' 'education_Assoc-acdm' 'education_Assoc-voc'\n",
            " 'education_Bachelors' 'education_Doctorate' 'education_HS-grad'\n",
            " 'education_Masters' 'education_Prof-school' 'education_Some-college'\n",
            " 'educational-num_2' 'educational-num_3' 'educational-num_4'\n",
            " 'educational-num_5' 'educational-num_6' 'educational-num_7'\n",
            " 'educational-num_8' 'educational-num_9' 'educational-num_10'\n",
            " 'educational-num_11' 'educational-num_12' 'educational-num_13'\n",
            " 'educational-num_14' 'educational-num_15' 'educational-num_16'\n",
            " 'marital-status_Married' 'marital-status_Never-married'\n",
            " 'marital-status_Not-Married' 'occupation_Adm-clerical'\n",
            " 'occupation_Craft-repair' 'occupation_Exec-managerial'\n",
            " 'occupation_Farming-fishing' 'occupation_Handlers-cleaners'\n",
            " 'occupation_Machine-op-inspct' 'occupation_Other-service'\n",
            " 'occupation_Priv-house-serv' 'occupation_Prof-specialty'\n",
            " 'occupation_Protective-serv' 'occupation_Sales'\n",
            " 'occupation_Transport-moving' 'relationship_Husband'\n",
            " 'relationship_Not-in-family' 'relationship_Other-relative'\n",
            " 'relationship_Own-child' 'relationship_Unmarried' 'relationship_Wife'\n",
            " 'race_Amer-Indian-Eskimo' 'race_Asian-Pac-Islander' 'race_Black'\n",
            " 'race_Other' 'race_White' 'gender_Female' 'gender_Male'\n",
            " 'native-country_North-America' 'native-country_South-America' 'age'\n",
            " 'capital-loss' 'hours-per-week']\n",
            "Optimized Logistic Regression - Accuracy: 0.8283142571396822\n"
          ]
        }
      ]
    },
    {
      "cell_type": "code",
      "source": [
        "# Initialize the random forest model\n",
        "forest_model = RandomForestClassifier(random_state=123)\n",
        "\n",
        "# Initialize RFECV with the random forest model\n",
        "rfecv_forest = RFECV(estimator=forest_model, step=1, cv=StratifiedKFold(5), scoring='accuracy')\n",
        "\n",
        "# Fit RFECV\n",
        "rfecv_forest.fit(X_train_transformed, y_train)\n",
        "\n",
        "# Print the optimal number of features and the selected features\n",
        "print(f\"Optimal number of features for Random Forest: {rfecv_forest.n_features_}\")\n",
        "selected_features_forest = all_feature_names[rfecv_forest.support_]\n",
        "print(f\"Selected features: {selected_features_forest}\")\n",
        "\n",
        "# Train the random forest model with selected features\n",
        "forest_model.fit(X_train_transformed[:, rfecv_forest.support_], y_train)\n",
        "\n",
        "# Predictions\n",
        "forest_predictions = forest_model.predict(X_test_transformed[:, rfecv_forest.support_])\n",
        "\n",
        "# Evaluate the model\n",
        "forest_accuracy = accuracy_score(y_test, forest_predictions)\n",
        "print(f\"Optimized Random Forest - Accuracy: {forest_accuracy}\")\n"
      ],
      "metadata": {
        "colab": {
          "base_uri": "https://localhost:8080/"
        },
        "id": "PxP1lbFYJdW5",
        "outputId": "7d5c27c0-57c5-482c-ebbb-82d5e87d6e46"
      },
      "execution_count": 26,
      "outputs": [
        {
          "output_type": "stream",
          "name": "stdout",
          "text": [
            "Optimal number of features for Random Forest: 67\n",
            "Selected features: ['workclass_Private' 'workclass_SL-gov' 'workclass_Self-emp'\n",
            " 'workclass_State-gov' 'education_10th' 'education_11th' 'education_12th'\n",
            " 'education_5th-6th' 'education_7th-8th' 'education_9th'\n",
            " 'education_Assoc-acdm' 'education_Assoc-voc' 'education_Bachelors'\n",
            " 'education_Doctorate' 'education_HS-grad' 'education_Masters'\n",
            " 'education_Prof-school' 'education_Some-college' 'educational-num_4'\n",
            " 'educational-num_5' 'educational-num_6' 'educational-num_7'\n",
            " 'educational-num_9' 'educational-num_10' 'educational-num_11'\n",
            " 'educational-num_12' 'educational-num_13' 'educational-num_14'\n",
            " 'educational-num_15' 'educational-num_16' 'marital-status_Married'\n",
            " 'marital-status_Never-married' 'marital-status_Not-Married'\n",
            " 'occupation_Adm-clerical' 'occupation_Craft-repair'\n",
            " 'occupation_Exec-managerial' 'occupation_Farming-fishing'\n",
            " 'occupation_Handlers-cleaners' 'occupation_Machine-op-inspct'\n",
            " 'occupation_Other-service' 'occupation_Prof-specialty'\n",
            " 'occupation_Protective-serv' 'occupation_Sales' 'occupation_Tech-support'\n",
            " 'occupation_Transport-moving' 'relationship_Husband'\n",
            " 'relationship_Not-in-family' 'relationship_Other-relative'\n",
            " 'relationship_Own-child' 'relationship_Unmarried' 'relationship_Wife'\n",
            " 'race_Amer-Indian-Eskimo' 'race_Asian-Pac-Islander' 'race_Black'\n",
            " 'race_Other' 'race_White' 'gender_Female' 'gender_Male'\n",
            " 'native-country_Asia' 'native-country_Europe'\n",
            " 'native-country_North-America' 'native-country_South-America' 'age'\n",
            " 'fnlwgt' 'capital-gain' 'capital-loss' 'hours-per-week']\n",
            "Optimized Random Forest - Accuracy: 0.8444271585731749\n"
          ]
        }
      ]
    },
    {
      "cell_type": "code",
      "source": [
        "# Initialize the gradient boosting model\n",
        "boosting_model = GradientBoostingClassifier(random_state=123)\n",
        "\n",
        "# Initialize RFECV with the gradient boosting model\n",
        "rfecv_boosting = RFECV(estimator=boosting_model, step=1, cv=StratifiedKFold(5), scoring='accuracy')\n",
        "\n",
        "# Fit RFECV\n",
        "rfecv_boosting.fit(X_train_transformed, y_train)\n",
        "\n",
        "# Print the optimal number of features and the selected features\n",
        "print(f\"Optimal number of features for Gradient Boosting: {rfecv_boosting.n_features_}\")\n",
        "selected_features_boosting = all_feature_names[rfecv_boosting.support_]\n",
        "print(f\"Selected features: {selected_features_boosting}\")\n",
        "\n",
        "# Train the gradient boosting model with selected features\n",
        "boosting_model.fit(X_train_transformed[:, rfecv_boosting.support_], y_train)\n",
        "\n",
        "# Predictions\n",
        "boosting_predictions = boosting_model.predict(X_test_transformed[:, rfecv_boosting.support_])\n",
        "\n",
        "# Evaluate the model\n",
        "boosting_accuracy = accuracy_score(y_test, boosting_predictions)\n",
        "print(f\"Optimized Gradient Boosting - Accuracy: {boosting_accuracy}\")\n"
      ],
      "metadata": {
        "id": "kKBf_U3OKB-7",
        "colab": {
          "base_uri": "https://localhost:8080/"
        },
        "outputId": "4f7dd429-835b-4b9b-c6fd-fc22e3d1b328"
      },
      "execution_count": 27,
      "outputs": [
        {
          "output_type": "stream",
          "name": "stdout",
          "text": [
            "Optimal number of features for Gradient Boosting: 28\n",
            "Selected features: ['education_10th' 'education_11th' 'education_Bachelors'\n",
            " 'education_Doctorate' 'education_HS-grad' 'education_Masters'\n",
            " 'education_Prof-school' 'educational-num_4' 'educational-num_5'\n",
            " 'educational-num_9' 'educational-num_13' 'educational-num_14'\n",
            " 'educational-num_15' 'educational-num_16' 'marital-status_Married'\n",
            " 'occupation_Exec-managerial' 'occupation_Farming-fishing'\n",
            " 'occupation_Other-service' 'occupation_Prof-specialty' 'occupation_Sales'\n",
            " 'occupation_Tech-support' 'relationship_Husband' 'relationship_Wife'\n",
            " 'gender_Female' 'age' 'capital-gain' 'capital-loss' 'hours-per-week']\n",
            "Optimized Gradient Boosting - Accuracy: 0.8586509612179131\n"
          ]
        }
      ]
    },
    {
      "cell_type": "markdown",
      "source": [
        "## Evaluation"
      ],
      "metadata": {
        "id": "Ek3Wce7xuwyV"
      }
    },
    {
      "cell_type": "markdown",
      "source": [
        "We evaluate models with metrics such as: accuracy, reccal, precision, sensitivity, specifity, AUC and ROC curve."
      ],
      "metadata": {
        "id": "WzHeWuq5rlXf"
      }
    },
    {
      "cell_type": "code",
      "source": [
        "def specificity_score(y_true, y_pred):\n",
        "    cm = confusion_matrix(y_true, y_pred)\n",
        "    tn, fp, fn, tp = cm.ravel()\n",
        "    return tn / (tn + fp)\n"
      ],
      "metadata": {
        "id": "6knb4ltHZV-t"
      },
      "execution_count": 28,
      "outputs": []
    },
    {
      "cell_type": "code",
      "source": [
        "def evaluate_model(y_true, y_pred, y_prob, model_name):\n",
        "    accuracy = accuracy_score(y_true, y_pred)\n",
        "    precision = precision_score(y_true, y_pred)\n",
        "    recall = recall_score(y_true, y_pred)\n",
        "    specificity = specificity_score(y_true, y_pred)\n",
        "    f1 = f1_score(y_true, y_pred)\n",
        "\n",
        "    fpr, tpr, _ = roc_curve(y_true, y_prob)\n",
        "    roc_auc = auc(fpr, tpr)\n",
        "\n",
        "    print(f\"--- {model_name} ---\")\n",
        "    print(f\"Accuracy: {accuracy}\")\n",
        "    print(f\"Precision: {precision}\")\n",
        "    print(f\"Recall: {recall}\")\n",
        "    print(f\"Specificity: {specificity}\")\n",
        "    print(f\"F1 Score: {f1}\")\n",
        "    print(f\"AUC: {roc_auc}\")\n",
        "\n",
        "    plt.figure()\n",
        "    plt.plot(fpr, tpr, color='darkorange', lw=2, label=f'ROC curve (area = {roc_auc:.2f})')\n",
        "    plt.plot([0, 1], [0, 1], color='navy', lw=2, linestyle='--')\n",
        "    plt.xlim([0.0, 1.0])\n",
        "    plt.ylim([0.0, 1.05])\n",
        "    plt.xlabel('False Positive Rate')\n",
        "    plt.ylabel('True Positive Rate')\n",
        "    plt.title(f'Receiver Operating Characteristic - {model_name}')\n",
        "    plt.legend(loc=\"lower right\")\n",
        "    plt.show()\n"
      ],
      "metadata": {
        "id": "E4P_sXhaZt15"
      },
      "execution_count": 29,
      "outputs": []
    },
    {
      "cell_type": "code",
      "source": [
        "logistic_probabilities = logistic_model.predict_proba(X_test_transformed[:, rfecv_logistic.support_])[:, 1]\n",
        "evaluate_model(y_test, logistic_predictions, logistic_probabilities, \"Logistic Regression\")\n"
      ],
      "metadata": {
        "colab": {
          "base_uri": "https://localhost:8080/",
          "height": 593
        },
        "id": "mXQW3mPHZ2ul",
        "outputId": "b1e133b2-3752-4ac6-8050-dab61ffe2074"
      },
      "execution_count": 30,
      "outputs": [
        {
          "output_type": "stream",
          "name": "stdout",
          "text": [
            "--- Logistic Regression ---\n",
            "Accuracy: 0.8283142571396822\n",
            "Precision: 0.6907333712336555\n",
            "Recall: 0.5482851985559567\n",
            "Specificity: 0.9197994987468672\n",
            "F1 Score: 0.6113207547169812\n",
            "AUC: 0.8832153182382585\n"
          ]
        },
        {
          "output_type": "display_data",
          "data": {
            "text/plain": [
              "<Figure size 640x480 with 1 Axes>"
            ],
            "image/png": "[encoded data removed]"
          },
          "metadata": {}
        }
      ]
    },
    {
      "cell_type": "markdown",
      "source": [
        "Accuracy = 0.83 means that 83% of ours predicions were real. It is good number but when we look at the other metrics such as reccal we can see result = 0.55. It means that we truly identified only 55% of real class 1 cases. We have hight result of accuracy because there are a lot more cases of class 0 in our data and our model usually predict it as class 0. AUC 0.88 is a good result, it means that our model have ability to determine wheather case belongs to class 0 or class 1. Using RFECV clearly improved this model from basic Logistic model."
      ],
      "metadata": {
        "id": "zE2CUQICr4MR"
      }
    },
    {
      "cell_type": "code",
      "source": [
        "forest_probabilities = forest_model.predict_proba(X_test_transformed[:, rfecv_forest.support_])[:, 1]\n",
        "evaluate_model(y_test, forest_predictions, forest_probabilities, \"Random Forest\")\n"
      ],
      "metadata": {
        "colab": {
          "base_uri": "https://localhost:8080/",
          "height": 593
        },
        "id": "Oe-On_ALZ4Mz",
        "outputId": "a3a26bee-143c-4daf-a886-dcaa7d368744"
      },
      "execution_count": 31,
      "outputs": [
        {
          "output_type": "stream",
          "name": "stdout",
          "text": [
            "--- Random Forest ---\n",
            "Accuracy: 0.8444271585731749\n",
            "Precision: 0.717948717948718\n",
            "Recall: 0.6064981949458483\n",
            "Specificity: 0.9221583370190182\n",
            "F1 Score: 0.6575342465753424\n",
            "AUC: 0.8972451701562252\n"
          ]
        },
        {
          "output_type": "display_data",
          "data": {
            "text/plain": [
              "<Figure size 640x480 with 1 Axes>"
            ],
            "image/png": "[encoded data removed]"
          },
          "metadata": {}
        }
      ]
    },
    {
      "cell_type": "markdown",
      "source": [
        "Even though, RFECV didnt improve this model much, it is better that Logistic. Accuracy 0.84 isn't much higher but Recall is as 61%."
      ],
      "metadata": {
        "id": "JnHFZ3YHtXYz"
      }
    },
    {
      "cell_type": "code",
      "source": [
        "boosting_probabilities = boosting_model.predict_proba(X_test_transformed[:, rfecv_boosting.support_])[:, 1]\n",
        "evaluate_model(y_test, boosting_predictions, boosting_probabilities, \"Gradient Boosting\")\n"
      ],
      "metadata": {
        "colab": {
          "base_uri": "https://localhost:8080/",
          "height": 593
        },
        "id": "idgF8IxyU1-2",
        "outputId": "fc4b9744-29e4-4d0e-a9a9-54493c5a25ce"
      },
      "execution_count": 32,
      "outputs": [
        {
          "output_type": "stream",
          "name": "stdout",
          "text": [
            "--- Gradient Boosting ---\n",
            "Accuracy: 0.8586509612179131\n",
            "Precision: 0.7968553459119497\n",
            "Recall: 0.5717509025270758\n",
            "Specificity: 0.9523809523809523\n",
            "F1 Score: 0.6657908565423016\n",
            "AUC: 0.9153598119848357\n"
          ]
        },
        {
          "output_type": "display_data",
          "data": {
            "text/plain": [
              "<Figure size 640x480 with 1 Axes>"
            ],
            "image/png": "[encoded data removed]"
          },
          "metadata": {}
        }
      ]
    },
    {
      "cell_type": "markdown",
      "source": [
        "Accuracy is the highest in this model (0.86) but Recall (0.57) is worse that in Random Forest model. AUC is better so is ROC curve."
      ],
      "metadata": {
        "id": "7wNqYHr_ttbU"
      }
    },
    {
      "cell_type": "markdown",
      "source": [
        "Choosing best model is hard here. It depends on what we really want to achive. If our main goal is to predict class 1 properly, then I would choose Random Forest model but if we want overall accuracy then Boosting Trees model will be better."
      ],
      "metadata": {
        "id": "X3Xrwlh4uCR5"
      }
    }
  ]
}